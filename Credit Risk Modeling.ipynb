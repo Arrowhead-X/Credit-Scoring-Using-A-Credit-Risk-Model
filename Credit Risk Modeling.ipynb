{
 "cells": [
  {
   "cell_type": "code",
   "execution_count": 9,
   "metadata": {},
   "outputs": [],
   "source": [
    "#importing required packages\n",
    "\n",
    "import pandas as pd\n",
    "import numpy as np\n",
    "import matplotlib.pyplot as plt\n",
    "import seaborn as sns\n",
    "\n",
    "from sklearn.model_selection import train_test_split\n",
    "from sklearn.preprocessing import StandardScaler\n",
    "from sklearn.linear_model import LogisticRegression\n",
    "from sklearn.metrics import accuracy_score, classification_report, confusion_matrix\n",
    "import warnings\n",
    "\n",
    "warnings.filterwarnings('ignore')"
   ]
  },
  {
   "cell_type": "code",
   "execution_count": 10,
   "metadata": {},
   "outputs": [],
   "source": [
    "#Read Dataset\n",
    "credit_data = pd.read_excel(r\"C:\\Users\\samue\\OneDrive\\Documents\\Bobby\\Datasets\\credit_scoring.xlsx\")"
   ]
  },
  {
   "cell_type": "code",
   "execution_count": 11,
   "metadata": {},
   "outputs": [
    {
     "data": {
      "text/html": [
       "<div>\n",
       "<style scoped>\n",
       "    .dataframe tbody tr th:only-of-type {\n",
       "        vertical-align: middle;\n",
       "    }\n",
       "\n",
       "    .dataframe tbody tr th {\n",
       "        vertical-align: top;\n",
       "    }\n",
       "\n",
       "    .dataframe thead th {\n",
       "        text-align: right;\n",
       "    }\n",
       "</style>\n",
       "<table border=\"1\" class=\"dataframe\">\n",
       "  <thead>\n",
       "    <tr style=\"text-align: right;\">\n",
       "      <th></th>\n",
       "      <th>TARGET</th>\n",
       "      <th>ID</th>\n",
       "      <th>DerogCnt</th>\n",
       "      <th>CollectCnt</th>\n",
       "      <th>BanruptcyInd</th>\n",
       "      <th>InqCnt06</th>\n",
       "      <th>InqTimeLast</th>\n",
       "      <th>InqFinanceCnt24</th>\n",
       "      <th>TLTimeFirst</th>\n",
       "      <th>TLTimeLast</th>\n",
       "      <th>...</th>\n",
       "      <th>TL50UtilCnt</th>\n",
       "      <th>TLBalHCPct</th>\n",
       "      <th>TLSatPct</th>\n",
       "      <th>TLDel3060Cnt24</th>\n",
       "      <th>TLDel90Cnt24</th>\n",
       "      <th>TLDel60CntAll</th>\n",
       "      <th>TLOpenPct</th>\n",
       "      <th>TLBadDerogCnt</th>\n",
       "      <th>TLDel60Cnt24</th>\n",
       "      <th>TLOpen24Pct</th>\n",
       "    </tr>\n",
       "  </thead>\n",
       "  <tbody>\n",
       "    <tr>\n",
       "      <th>0</th>\n",
       "      <td>1</td>\n",
       "      <td>582</td>\n",
       "      <td>3</td>\n",
       "      <td>3</td>\n",
       "      <td>0</td>\n",
       "      <td>4</td>\n",
       "      <td>0.0</td>\n",
       "      <td>5</td>\n",
       "      <td>117</td>\n",
       "      <td>27</td>\n",
       "      <td>...</td>\n",
       "      <td>3.0</td>\n",
       "      <td>0.9179</td>\n",
       "      <td>0.2083</td>\n",
       "      <td>2</td>\n",
       "      <td>3</td>\n",
       "      <td>7</td>\n",
       "      <td>0.2083</td>\n",
       "      <td>4</td>\n",
       "      <td>4</td>\n",
       "      <td>0.0000</td>\n",
       "    </tr>\n",
       "    <tr>\n",
       "      <th>1</th>\n",
       "      <td>1</td>\n",
       "      <td>662</td>\n",
       "      <td>15</td>\n",
       "      <td>9</td>\n",
       "      <td>0</td>\n",
       "      <td>3</td>\n",
       "      <td>1.0</td>\n",
       "      <td>3</td>\n",
       "      <td>14</td>\n",
       "      <td>14</td>\n",
       "      <td>...</td>\n",
       "      <td>1.0</td>\n",
       "      <td>0.8000</td>\n",
       "      <td>0.0000</td>\n",
       "      <td>0</td>\n",
       "      <td>0</td>\n",
       "      <td>0</td>\n",
       "      <td>1.0000</td>\n",
       "      <td>12</td>\n",
       "      <td>0</td>\n",
       "      <td>1.0000</td>\n",
       "    </tr>\n",
       "    <tr>\n",
       "      <th>2</th>\n",
       "      <td>1</td>\n",
       "      <td>805</td>\n",
       "      <td>0</td>\n",
       "      <td>0</td>\n",
       "      <td>0</td>\n",
       "      <td>1</td>\n",
       "      <td>5.0</td>\n",
       "      <td>1</td>\n",
       "      <td>354</td>\n",
       "      <td>7</td>\n",
       "      <td>...</td>\n",
       "      <td>5.0</td>\n",
       "      <td>0.3552</td>\n",
       "      <td>0.6538</td>\n",
       "      <td>0</td>\n",
       "      <td>1</td>\n",
       "      <td>1</td>\n",
       "      <td>0.7308</td>\n",
       "      <td>1</td>\n",
       "      <td>1</td>\n",
       "      <td>0.5263</td>\n",
       "    </tr>\n",
       "    <tr>\n",
       "      <th>3</th>\n",
       "      <td>1</td>\n",
       "      <td>1175</td>\n",
       "      <td>8</td>\n",
       "      <td>5</td>\n",
       "      <td>0</td>\n",
       "      <td>6</td>\n",
       "      <td>1.0</td>\n",
       "      <td>10</td>\n",
       "      <td>16</td>\n",
       "      <td>4</td>\n",
       "      <td>...</td>\n",
       "      <td>3.0</td>\n",
       "      <td>0.9127</td>\n",
       "      <td>0.2500</td>\n",
       "      <td>1</td>\n",
       "      <td>1</td>\n",
       "      <td>1</td>\n",
       "      <td>0.7500</td>\n",
       "      <td>7</td>\n",
       "      <td>1</td>\n",
       "      <td>1.3333</td>\n",
       "    </tr>\n",
       "    <tr>\n",
       "      <th>4</th>\n",
       "      <td>1</td>\n",
       "      <td>1373</td>\n",
       "      <td>3</td>\n",
       "      <td>1</td>\n",
       "      <td>0</td>\n",
       "      <td>9</td>\n",
       "      <td>0.0</td>\n",
       "      <td>8</td>\n",
       "      <td>130</td>\n",
       "      <td>52</td>\n",
       "      <td>...</td>\n",
       "      <td>1.0</td>\n",
       "      <td>1.2511</td>\n",
       "      <td>0.0000</td>\n",
       "      <td>0</td>\n",
       "      <td>1</td>\n",
       "      <td>4</td>\n",
       "      <td>0.1429</td>\n",
       "      <td>3</td>\n",
       "      <td>1</td>\n",
       "      <td>0.0000</td>\n",
       "    </tr>\n",
       "  </tbody>\n",
       "</table>\n",
       "<p>5 rows × 30 columns</p>\n",
       "</div>"
      ],
      "text/plain": [
       "   TARGET    ID  DerogCnt  CollectCnt  BanruptcyInd  InqCnt06  InqTimeLast  \\\n",
       "0       1   582         3           3             0         4          0.0   \n",
       "1       1   662        15           9             0         3          1.0   \n",
       "2       1   805         0           0             0         1          5.0   \n",
       "3       1  1175         8           5             0         6          1.0   \n",
       "4       1  1373         3           1             0         9          0.0   \n",
       "\n",
       "   InqFinanceCnt24  TLTimeFirst  TLTimeLast  ...  TL50UtilCnt  TLBalHCPct  \\\n",
       "0                5          117          27  ...          3.0      0.9179   \n",
       "1                3           14          14  ...          1.0      0.8000   \n",
       "2                1          354           7  ...          5.0      0.3552   \n",
       "3               10           16           4  ...          3.0      0.9127   \n",
       "4                8          130          52  ...          1.0      1.2511   \n",
       "\n",
       "   TLSatPct  TLDel3060Cnt24  TLDel90Cnt24  TLDel60CntAll  TLOpenPct  \\\n",
       "0    0.2083               2             3              7     0.2083   \n",
       "1    0.0000               0             0              0     1.0000   \n",
       "2    0.6538               0             1              1     0.7308   \n",
       "3    0.2500               1             1              1     0.7500   \n",
       "4    0.0000               0             1              4     0.1429   \n",
       "\n",
       "   TLBadDerogCnt  TLDel60Cnt24  TLOpen24Pct  \n",
       "0              4             4       0.0000  \n",
       "1             12             0       1.0000  \n",
       "2              1             1       0.5263  \n",
       "3              7             1       1.3333  \n",
       "4              3             1       0.0000  \n",
       "\n",
       "[5 rows x 30 columns]"
      ]
     },
     "execution_count": 11,
     "metadata": {},
     "output_type": "execute_result"
    }
   ],
   "source": [
    "credit_data.head()"
   ]
  },
  {
   "cell_type": "markdown",
   "metadata": {},
   "source": [
    "### Exploration phase"
   ]
  },
  {
   "cell_type": "code",
   "execution_count": 12,
   "metadata": {},
   "outputs": [
    {
     "data": {
      "text/plain": [
       "Index(['TARGET', 'ID', 'DerogCnt', 'CollectCnt', 'BanruptcyInd', 'InqCnt06',\n",
       "       'InqTimeLast', 'InqFinanceCnt24', 'TLTimeFirst', 'TLTimeLast',\n",
       "       'TLCnt03', 'TLCnt12', 'TLCnt24', 'TLCnt', 'TLSum', 'TLMaxSum',\n",
       "       'TLSatCnt', 'TLDel60Cnt', 'TLBadCnt24', 'TL75UtilCnt', 'TL50UtilCnt',\n",
       "       'TLBalHCPct', 'TLSatPct', 'TLDel3060Cnt24', 'TLDel90Cnt24',\n",
       "       'TLDel60CntAll', 'TLOpenPct', 'TLBadDerogCnt', 'TLDel60Cnt24',\n",
       "       'TLOpen24Pct'],\n",
       "      dtype='object')"
      ]
     },
     "execution_count": 12,
     "metadata": {},
     "output_type": "execute_result"
    }
   ],
   "source": [
    "#Let's see what columns we have\n",
    "credit_data.columns"
   ]
  },
  {
   "cell_type": "code",
   "execution_count": 13,
   "metadata": {},
   "outputs": [
    {
     "data": {
      "text/plain": [
       "TARGET               int64\n",
       "ID                   int64\n",
       "DerogCnt             int64\n",
       "CollectCnt           int64\n",
       "BanruptcyInd         int64\n",
       "InqCnt06             int64\n",
       "InqTimeLast        float64\n",
       "InqFinanceCnt24      int64\n",
       "TLTimeFirst          int64\n",
       "TLTimeLast           int64\n",
       "TLCnt03              int64\n",
       "TLCnt12              int64\n",
       "TLCnt24              int64\n",
       "TLCnt              float64\n",
       "TLSum              float64\n",
       "TLMaxSum           float64\n",
       "TLSatCnt           float64\n",
       "TLDel60Cnt           int64\n",
       "TLBadCnt24           int64\n",
       "TL75UtilCnt        float64\n",
       "TL50UtilCnt        float64\n",
       "TLBalHCPct         float64\n",
       "TLSatPct           float64\n",
       "TLDel3060Cnt24       int64\n",
       "TLDel90Cnt24         int64\n",
       "TLDel60CntAll        int64\n",
       "TLOpenPct          float64\n",
       "TLBadDerogCnt        int64\n",
       "TLDel60Cnt24         int64\n",
       "TLOpen24Pct        float64\n",
       "dtype: object"
      ]
     },
     "execution_count": 13,
     "metadata": {},
     "output_type": "execute_result"
    }
   ],
   "source": [
    "#check for consistent data types\n",
    "credit_data.dtypes"
   ]
  },
  {
   "cell_type": "code",
   "execution_count": 15,
   "metadata": {},
   "outputs": [
    {
     "data": {
      "text/plain": [
       "0"
      ]
     },
     "execution_count": 15,
     "metadata": {},
     "output_type": "execute_result"
    }
   ],
   "source": [
    "#check dataset for duplicates\n",
    "credit_data.duplicated().sum()"
   ]
  },
  {
   "cell_type": "markdown",
   "metadata": {},
   "source": [
    "#### No duplicates. Great! Let's see if we have missing data"
   ]
  },
  {
   "cell_type": "code",
   "execution_count": 25,
   "metadata": {},
   "outputs": [
    {
     "data": {
      "text/plain": [
       "TARGET               0\n",
       "ID                   0\n",
       "DerogCnt             0\n",
       "CollectCnt           0\n",
       "BanruptcyInd         0\n",
       "InqCnt06             0\n",
       "InqTimeLast        188\n",
       "InqFinanceCnt24      0\n",
       "TLTimeFirst          0\n",
       "TLTimeLast           0\n",
       "TLCnt03              0\n",
       "TLCnt12              0\n",
       "TLCnt24              0\n",
       "TLCnt                3\n",
       "TLSum               40\n",
       "TLMaxSum            40\n",
       "TLSatCnt             4\n",
       "TLDel60Cnt           0\n",
       "TLBadCnt24           0\n",
       "TL75UtilCnt         99\n",
       "TL50UtilCnt         99\n",
       "TLBalHCPct          41\n",
       "TLSatPct             4\n",
       "TLDel3060Cnt24       0\n",
       "TLDel90Cnt24         0\n",
       "TLDel60CntAll        0\n",
       "TLOpenPct            3\n",
       "TLBadDerogCnt        0\n",
       "TLDel60Cnt24         0\n",
       "TLOpen24Pct          3\n",
       "dtype: int64"
      ]
     },
     "execution_count": 25,
     "metadata": {},
     "output_type": "execute_result"
    }
   ],
   "source": [
    "credit_data.isnull().sum()"
   ]
  },
  {
   "cell_type": "markdown",
   "metadata": {},
   "source": [
    "We can use the mean inputation method for our missing values. While this is not the best approach because further exploration could lead us to more information on whether our data is missing completely at random or not at random, thereby allowing us implement the best imputation method that mirrors the exact data generating process for our dataset"
   ]
  },
  {
   "cell_type": "code",
   "execution_count": 53,
   "metadata": {},
   "outputs": [],
   "source": [
    "#before we make changes to our dataset, let's make a copy so we preserve the original\n",
    "credit_data_X = credit_data.copy()\n",
    "\n",
    "#Mean imputation\n",
    "credit_data_X.fillna(credit_data_X.mean(), inplace=True)\n"
   ]
  },
  {
   "cell_type": "code",
   "execution_count": 54,
   "metadata": {},
   "outputs": [
    {
     "data": {
      "text/plain": [
       "TARGET             0\n",
       "ID                 0\n",
       "DerogCnt           0\n",
       "CollectCnt         0\n",
       "BanruptcyInd       0\n",
       "InqCnt06           0\n",
       "InqTimeLast        0\n",
       "InqFinanceCnt24    0\n",
       "TLTimeFirst        0\n",
       "TLTimeLast         0\n",
       "TLCnt03            0\n",
       "TLCnt12            0\n",
       "TLCnt24            0\n",
       "TLCnt              0\n",
       "TLSum              0\n",
       "TLMaxSum           0\n",
       "TLSatCnt           0\n",
       "TLDel60Cnt         0\n",
       "TLBadCnt24         0\n",
       "TL75UtilCnt        0\n",
       "TL50UtilCnt        0\n",
       "TLBalHCPct         0\n",
       "TLSatPct           0\n",
       "TLDel3060Cnt24     0\n",
       "TLDel90Cnt24       0\n",
       "TLDel60CntAll      0\n",
       "TLOpenPct          0\n",
       "TLBadDerogCnt      0\n",
       "TLDel60Cnt24       0\n",
       "TLOpen24Pct        0\n",
       "dtype: int64"
      ]
     },
     "execution_count": 54,
     "metadata": {},
     "output_type": "execute_result"
    }
   ],
   "source": [
    "#check status of missing data\n",
    "credit_data_X.isnull().sum()"
   ]
  },
  {
   "cell_type": "code",
   "execution_count": 27,
   "metadata": {},
   "outputs": [
    {
     "data": {
      "text/plain": [
       "(3000, 30)"
      ]
     },
     "execution_count": 27,
     "metadata": {},
     "output_type": "execute_result"
    }
   ],
   "source": [
    "#let's see how many features we have in our dataset\n",
    "credit_data.shape"
   ]
  },
  {
   "cell_type": "markdown",
   "metadata": {},
   "source": [
    "We have 28 features, a unique identifier and a target variable (A column that tells us what the outcome of each observation was; either negative, denoted by `1` or positive, denoted by `0`)\n",
    "\n",
    "We may not require all 28 features to help our model understand the true data generating process of our dataset but we sure would like to have as little features as possible with all the information required to make our model close to perfection, which means reducing the noise in our data by removing unnecessary features that could lead to overfitting. Let's see how we can use PCA to achieve that.\n",
    "\n",
    "#### Principal Component Analysis\n",
    "\n",
    "Principal Component Analysis (PCA) is a technique used in Python and machine learning to reduce the dimensionality of high-dimensional data while preserving the most important information."
   ]
  },
  {
   "cell_type": "code",
   "execution_count": 55,
   "metadata": {},
   "outputs": [
    {
     "data": {
      "text/html": [
       "<div>\n",
       "<style scoped>\n",
       "    .dataframe tbody tr th:only-of-type {\n",
       "        vertical-align: middle;\n",
       "    }\n",
       "\n",
       "    .dataframe tbody tr th {\n",
       "        vertical-align: top;\n",
       "    }\n",
       "\n",
       "    .dataframe thead th {\n",
       "        text-align: right;\n",
       "    }\n",
       "</style>\n",
       "<table border=\"1\" class=\"dataframe\">\n",
       "  <thead>\n",
       "    <tr style=\"text-align: right;\">\n",
       "      <th></th>\n",
       "      <th>TARGET</th>\n",
       "      <th>DerogCnt</th>\n",
       "      <th>CollectCnt</th>\n",
       "      <th>BanruptcyInd</th>\n",
       "      <th>InqCnt06</th>\n",
       "      <th>InqTimeLast</th>\n",
       "      <th>InqFinanceCnt24</th>\n",
       "      <th>TLTimeFirst</th>\n",
       "      <th>TLTimeLast</th>\n",
       "      <th>TLCnt03</th>\n",
       "      <th>...</th>\n",
       "      <th>TL50UtilCnt</th>\n",
       "      <th>TLBalHCPct</th>\n",
       "      <th>TLSatPct</th>\n",
       "      <th>TLDel3060Cnt24</th>\n",
       "      <th>TLDel90Cnt24</th>\n",
       "      <th>TLDel60CntAll</th>\n",
       "      <th>TLOpenPct</th>\n",
       "      <th>TLBadDerogCnt</th>\n",
       "      <th>TLDel60Cnt24</th>\n",
       "      <th>TLOpen24Pct</th>\n",
       "    </tr>\n",
       "  </thead>\n",
       "  <tbody>\n",
       "    <tr>\n",
       "      <th>0</th>\n",
       "      <td>1</td>\n",
       "      <td>3</td>\n",
       "      <td>3</td>\n",
       "      <td>0</td>\n",
       "      <td>4</td>\n",
       "      <td>0.0</td>\n",
       "      <td>5</td>\n",
       "      <td>117</td>\n",
       "      <td>27</td>\n",
       "      <td>0</td>\n",
       "      <td>...</td>\n",
       "      <td>3.0</td>\n",
       "      <td>0.9179</td>\n",
       "      <td>0.2083</td>\n",
       "      <td>2</td>\n",
       "      <td>3</td>\n",
       "      <td>7</td>\n",
       "      <td>0.2083</td>\n",
       "      <td>4</td>\n",
       "      <td>4</td>\n",
       "      <td>0.0000</td>\n",
       "    </tr>\n",
       "    <tr>\n",
       "      <th>1</th>\n",
       "      <td>1</td>\n",
       "      <td>15</td>\n",
       "      <td>9</td>\n",
       "      <td>0</td>\n",
       "      <td>3</td>\n",
       "      <td>1.0</td>\n",
       "      <td>3</td>\n",
       "      <td>14</td>\n",
       "      <td>14</td>\n",
       "      <td>0</td>\n",
       "      <td>...</td>\n",
       "      <td>1.0</td>\n",
       "      <td>0.8000</td>\n",
       "      <td>0.0000</td>\n",
       "      <td>0</td>\n",
       "      <td>0</td>\n",
       "      <td>0</td>\n",
       "      <td>1.0000</td>\n",
       "      <td>12</td>\n",
       "      <td>0</td>\n",
       "      <td>1.0000</td>\n",
       "    </tr>\n",
       "    <tr>\n",
       "      <th>2</th>\n",
       "      <td>1</td>\n",
       "      <td>0</td>\n",
       "      <td>0</td>\n",
       "      <td>0</td>\n",
       "      <td>1</td>\n",
       "      <td>5.0</td>\n",
       "      <td>1</td>\n",
       "      <td>354</td>\n",
       "      <td>7</td>\n",
       "      <td>0</td>\n",
       "      <td>...</td>\n",
       "      <td>5.0</td>\n",
       "      <td>0.3552</td>\n",
       "      <td>0.6538</td>\n",
       "      <td>0</td>\n",
       "      <td>1</td>\n",
       "      <td>1</td>\n",
       "      <td>0.7308</td>\n",
       "      <td>1</td>\n",
       "      <td>1</td>\n",
       "      <td>0.5263</td>\n",
       "    </tr>\n",
       "    <tr>\n",
       "      <th>3</th>\n",
       "      <td>1</td>\n",
       "      <td>8</td>\n",
       "      <td>5</td>\n",
       "      <td>0</td>\n",
       "      <td>6</td>\n",
       "      <td>1.0</td>\n",
       "      <td>10</td>\n",
       "      <td>16</td>\n",
       "      <td>4</td>\n",
       "      <td>0</td>\n",
       "      <td>...</td>\n",
       "      <td>3.0</td>\n",
       "      <td>0.9127</td>\n",
       "      <td>0.2500</td>\n",
       "      <td>1</td>\n",
       "      <td>1</td>\n",
       "      <td>1</td>\n",
       "      <td>0.7500</td>\n",
       "      <td>7</td>\n",
       "      <td>1</td>\n",
       "      <td>1.3333</td>\n",
       "    </tr>\n",
       "    <tr>\n",
       "      <th>4</th>\n",
       "      <td>1</td>\n",
       "      <td>3</td>\n",
       "      <td>1</td>\n",
       "      <td>0</td>\n",
       "      <td>9</td>\n",
       "      <td>0.0</td>\n",
       "      <td>8</td>\n",
       "      <td>130</td>\n",
       "      <td>52</td>\n",
       "      <td>0</td>\n",
       "      <td>...</td>\n",
       "      <td>1.0</td>\n",
       "      <td>1.2511</td>\n",
       "      <td>0.0000</td>\n",
       "      <td>0</td>\n",
       "      <td>1</td>\n",
       "      <td>4</td>\n",
       "      <td>0.1429</td>\n",
       "      <td>3</td>\n",
       "      <td>1</td>\n",
       "      <td>0.0000</td>\n",
       "    </tr>\n",
       "  </tbody>\n",
       "</table>\n",
       "<p>5 rows × 29 columns</p>\n",
       "</div>"
      ],
      "text/plain": [
       "   TARGET  DerogCnt  CollectCnt  BanruptcyInd  InqCnt06  InqTimeLast  \\\n",
       "0       1         3           3             0         4          0.0   \n",
       "1       1        15           9             0         3          1.0   \n",
       "2       1         0           0             0         1          5.0   \n",
       "3       1         8           5             0         6          1.0   \n",
       "4       1         3           1             0         9          0.0   \n",
       "\n",
       "   InqFinanceCnt24  TLTimeFirst  TLTimeLast  TLCnt03  ...  TL50UtilCnt  \\\n",
       "0                5          117          27        0  ...          3.0   \n",
       "1                3           14          14        0  ...          1.0   \n",
       "2                1          354           7        0  ...          5.0   \n",
       "3               10           16           4        0  ...          3.0   \n",
       "4                8          130          52        0  ...          1.0   \n",
       "\n",
       "   TLBalHCPct  TLSatPct  TLDel3060Cnt24  TLDel90Cnt24  TLDel60CntAll  \\\n",
       "0      0.9179    0.2083               2             3              7   \n",
       "1      0.8000    0.0000               0             0              0   \n",
       "2      0.3552    0.6538               0             1              1   \n",
       "3      0.9127    0.2500               1             1              1   \n",
       "4      1.2511    0.0000               0             1              4   \n",
       "\n",
       "   TLOpenPct  TLBadDerogCnt  TLDel60Cnt24  TLOpen24Pct  \n",
       "0     0.2083              4             4       0.0000  \n",
       "1     1.0000             12             0       1.0000  \n",
       "2     0.7308              1             1       0.5263  \n",
       "3     0.7500              7             1       1.3333  \n",
       "4     0.1429              3             1       0.0000  \n",
       "\n",
       "[5 rows x 29 columns]"
      ]
     },
     "execution_count": 55,
     "metadata": {},
     "output_type": "execute_result"
    }
   ],
   "source": [
    "\n",
    "#Drop ID column\n",
    "credit_data_X.drop([\"ID\"], axis=1, inplace=True)\n",
    "credit_data_X.head()"
   ]
  },
  {
   "cell_type": "code",
   "execution_count": 56,
   "metadata": {},
   "outputs": [],
   "source": [
    "#We should set our target variable aside so it's not affected by the dimensionality reduction exercise.\n",
    "\n",
    "y = credit_data_X['TARGET']\n",
    "X = credit_data_X.drop(['TARGET'], axis=1)"
   ]
  },
  {
   "cell_type": "code",
   "execution_count": 57,
   "metadata": {},
   "outputs": [
    {
     "data": {
      "text/plain": [
       "0    1\n",
       "1    1\n",
       "2    1\n",
       "3    1\n",
       "4    1\n",
       "Name: TARGET, dtype: int64"
      ]
     },
     "execution_count": 57,
     "metadata": {},
     "output_type": "execute_result"
    }
   ],
   "source": [
    "X.head()\n",
    "y.head()"
   ]
  },
  {
   "cell_type": "code",
   "execution_count": 59,
   "metadata": {},
   "outputs": [],
   "source": [
    "#Standardize our dataset features into a unit scale because the PCA is affected by variance in scale\n",
    "X_scaled = StandardScaler().fit_transform(X)"
   ]
  },
  {
   "cell_type": "code",
   "execution_count": 62,
   "metadata": {},
   "outputs": [
    {
     "data": {
      "text/plain": [
       "array([[ 0.57487821,  0.99167442, -0.42556123, ...,  1.05324168,\n",
       "         1.62345171, -1.17598354],\n",
       "       [ 4.96885178,  3.76817768, -0.42556123, ...,  4.30524222,\n",
       "        -0.59160463,  0.90828415],\n",
       "       [-0.52361518, -0.39657722, -0.42556123, ..., -0.16625853,\n",
       "        -0.03784055, -0.07903346],\n",
       "       ...,\n",
       "       [-0.15745072,  0.06617333, -0.42556123, ..., -0.16625853,\n",
       "        -0.59160463,  0.38721723],\n",
       "       [ 0.94104267,  1.45442496, -0.42556123, ...,  1.05324168,\n",
       "        -0.03784055,  0.90828415],\n",
       "       [ 0.20871374,  0.06617333,  2.34983811, ...,  0.64674161,\n",
       "         0.51592354, -1.17598354]])"
      ]
     },
     "execution_count": 62,
     "metadata": {},
     "output_type": "execute_result"
    }
   ],
   "source": [
    "#Examine scaled data\n",
    "X_scaled"
   ]
  },
  {
   "cell_type": "code",
   "execution_count": 63,
   "metadata": {},
   "outputs": [],
   "source": [
    "#implementing PCA\n",
    "from sklearn.decomposition import PCA\n",
    "\n",
    "pca = PCA(n_components=15)\n",
    "principal_components = pca.fit_transform(X_scaled)"
   ]
  },
  {
   "cell_type": "code",
   "execution_count": 65,
   "metadata": {},
   "outputs": [
    {
     "data": {
      "text/plain": [
       "(3000, 15)"
      ]
     },
     "execution_count": 65,
     "metadata": {},
     "output_type": "execute_result"
    }
   ],
   "source": [
    "#Examine the shape of our adjusted dataset\n",
    "principal_components.shape"
   ]
  },
  {
   "cell_type": "code",
   "execution_count": 71,
   "metadata": {},
   "outputs": [
    {
     "data": {
      "text/plain": [
       "array([6.66425375, 4.61379602, 2.99438122, 1.83139346, 1.42768139,\n",
       "       1.354543  , 1.30094313, 1.20383124, 0.86959617, 0.79865353,\n",
       "       0.75985139, 0.70920127, 0.63542957, 0.55885989, 0.41959176])"
      ]
     },
     "execution_count": 71,
     "metadata": {},
     "output_type": "execute_result"
    }
   ],
   "source": [
    "pca.explained_variance_"
   ]
  },
  {
   "cell_type": "code",
   "execution_count": 66,
   "metadata": {},
   "outputs": [],
   "source": [
    "pca_credit_data = pd.DataFrame(principal_components)"
   ]
  },
  {
   "cell_type": "code",
   "execution_count": 67,
   "metadata": {},
   "outputs": [
    {
     "data": {
      "text/html": [
       "<div>\n",
       "<style scoped>\n",
       "    .dataframe tbody tr th:only-of-type {\n",
       "        vertical-align: middle;\n",
       "    }\n",
       "\n",
       "    .dataframe tbody tr th {\n",
       "        vertical-align: top;\n",
       "    }\n",
       "\n",
       "    .dataframe thead th {\n",
       "        text-align: right;\n",
       "    }\n",
       "</style>\n",
       "<table border=\"1\" class=\"dataframe\">\n",
       "  <thead>\n",
       "    <tr style=\"text-align: right;\">\n",
       "      <th></th>\n",
       "      <th>0</th>\n",
       "      <th>1</th>\n",
       "      <th>2</th>\n",
       "      <th>3</th>\n",
       "      <th>4</th>\n",
       "      <th>5</th>\n",
       "      <th>6</th>\n",
       "      <th>7</th>\n",
       "      <th>8</th>\n",
       "      <th>9</th>\n",
       "      <th>10</th>\n",
       "      <th>11</th>\n",
       "      <th>12</th>\n",
       "      <th>13</th>\n",
       "      <th>14</th>\n",
       "    </tr>\n",
       "  </thead>\n",
       "  <tbody>\n",
       "    <tr>\n",
       "      <th>0</th>\n",
       "      <td>3.040505</td>\n",
       "      <td>1.521939</td>\n",
       "      <td>-0.847817</td>\n",
       "      <td>1.055572</td>\n",
       "      <td>-1.106023</td>\n",
       "      <td>1.367968</td>\n",
       "      <td>0.025781</td>\n",
       "      <td>1.048080</td>\n",
       "      <td>-0.009517</td>\n",
       "      <td>-0.278106</td>\n",
       "      <td>0.041235</td>\n",
       "      <td>-1.040712</td>\n",
       "      <td>0.234824</td>\n",
       "      <td>-0.452742</td>\n",
       "      <td>0.863569</td>\n",
       "    </tr>\n",
       "    <tr>\n",
       "      <th>1</th>\n",
       "      <td>3.564049</td>\n",
       "      <td>-1.018554</td>\n",
       "      <td>3.595808</td>\n",
       "      <td>6.387023</td>\n",
       "      <td>0.800924</td>\n",
       "      <td>-0.103095</td>\n",
       "      <td>0.063304</td>\n",
       "      <td>0.324074</td>\n",
       "      <td>0.804665</td>\n",
       "      <td>-0.465628</td>\n",
       "      <td>-0.723255</td>\n",
       "      <td>-0.825966</td>\n",
       "      <td>-0.686207</td>\n",
       "      <td>0.529644</td>\n",
       "      <td>0.253687</td>\n",
       "    </tr>\n",
       "    <tr>\n",
       "      <th>2</th>\n",
       "      <td>-2.146034</td>\n",
       "      <td>0.564004</td>\n",
       "      <td>-1.498970</td>\n",
       "      <td>0.041820</td>\n",
       "      <td>0.294629</td>\n",
       "      <td>-1.557127</td>\n",
       "      <td>-1.284772</td>\n",
       "      <td>-0.957012</td>\n",
       "      <td>-0.404103</td>\n",
       "      <td>-0.216746</td>\n",
       "      <td>0.045486</td>\n",
       "      <td>1.632545</td>\n",
       "      <td>0.606865</td>\n",
       "      <td>0.332033</td>\n",
       "      <td>-0.014521</td>\n",
       "    </tr>\n",
       "    <tr>\n",
       "      <th>3</th>\n",
       "      <td>1.836940</td>\n",
       "      <td>0.222763</td>\n",
       "      <td>3.679389</td>\n",
       "      <td>2.710808</td>\n",
       "      <td>0.582188</td>\n",
       "      <td>0.873894</td>\n",
       "      <td>-0.031269</td>\n",
       "      <td>1.202462</td>\n",
       "      <td>-0.457884</td>\n",
       "      <td>-0.082970</td>\n",
       "      <td>-0.324209</td>\n",
       "      <td>-0.288982</td>\n",
       "      <td>-0.600425</td>\n",
       "      <td>0.486365</td>\n",
       "      <td>0.019573</td>\n",
       "    </tr>\n",
       "    <tr>\n",
       "      <th>4</th>\n",
       "      <td>3.737444</td>\n",
       "      <td>-0.361824</td>\n",
       "      <td>0.543317</td>\n",
       "      <td>-0.121210</td>\n",
       "      <td>-1.302755</td>\n",
       "      <td>2.841647</td>\n",
       "      <td>1.233014</td>\n",
       "      <td>0.055270</td>\n",
       "      <td>0.362156</td>\n",
       "      <td>-0.602189</td>\n",
       "      <td>2.093677</td>\n",
       "      <td>-1.106630</td>\n",
       "      <td>0.711580</td>\n",
       "      <td>-0.363570</td>\n",
       "      <td>1.553116</td>\n",
       "    </tr>\n",
       "  </tbody>\n",
       "</table>\n",
       "</div>"
      ],
      "text/plain": [
       "         0         1         2         3         4         5         6   \\\n",
       "0  3.040505  1.521939 -0.847817  1.055572 -1.106023  1.367968  0.025781   \n",
       "1  3.564049 -1.018554  3.595808  6.387023  0.800924 -0.103095  0.063304   \n",
       "2 -2.146034  0.564004 -1.498970  0.041820  0.294629 -1.557127 -1.284772   \n",
       "3  1.836940  0.222763  3.679389  2.710808  0.582188  0.873894 -0.031269   \n",
       "4  3.737444 -0.361824  0.543317 -0.121210 -1.302755  2.841647  1.233014   \n",
       "\n",
       "         7         8         9         10        11        12        13  \\\n",
       "0  1.048080 -0.009517 -0.278106  0.041235 -1.040712  0.234824 -0.452742   \n",
       "1  0.324074  0.804665 -0.465628 -0.723255 -0.825966 -0.686207  0.529644   \n",
       "2 -0.957012 -0.404103 -0.216746  0.045486  1.632545  0.606865  0.332033   \n",
       "3  1.202462 -0.457884 -0.082970 -0.324209 -0.288982 -0.600425  0.486365   \n",
       "4  0.055270  0.362156 -0.602189  2.093677 -1.106630  0.711580 -0.363570   \n",
       "\n",
       "         14  \n",
       "0  0.863569  \n",
       "1  0.253687  \n",
       "2 -0.014521  \n",
       "3  0.019573  \n",
       "4  1.553116  "
      ]
     },
     "execution_count": 67,
     "metadata": {},
     "output_type": "execute_result"
    }
   ],
   "source": [
    "pca_credit_data.head()"
   ]
  },
  {
   "cell_type": "code",
   "execution_count": 77,
   "metadata": {},
   "outputs": [
    {
     "data": {
      "text/html": [
       "<div>\n",
       "<style scoped>\n",
       "    .dataframe tbody tr th:only-of-type {\n",
       "        vertical-align: middle;\n",
       "    }\n",
       "\n",
       "    .dataframe tbody tr th {\n",
       "        vertical-align: top;\n",
       "    }\n",
       "\n",
       "    .dataframe thead th {\n",
       "        text-align: right;\n",
       "    }\n",
       "</style>\n",
       "<table border=\"1\" class=\"dataframe\">\n",
       "  <thead>\n",
       "    <tr style=\"text-align: right;\">\n",
       "      <th></th>\n",
       "      <th>0</th>\n",
       "      <th>1</th>\n",
       "      <th>2</th>\n",
       "      <th>3</th>\n",
       "      <th>4</th>\n",
       "      <th>5</th>\n",
       "      <th>6</th>\n",
       "      <th>7</th>\n",
       "      <th>8</th>\n",
       "      <th>9</th>\n",
       "      <th>10</th>\n",
       "      <th>11</th>\n",
       "      <th>12</th>\n",
       "      <th>13</th>\n",
       "      <th>14</th>\n",
       "      <th>Target</th>\n",
       "    </tr>\n",
       "  </thead>\n",
       "  <tbody>\n",
       "    <tr>\n",
       "      <th>0</th>\n",
       "      <td>3.040505</td>\n",
       "      <td>1.521939</td>\n",
       "      <td>-0.847817</td>\n",
       "      <td>1.055572</td>\n",
       "      <td>-1.106023</td>\n",
       "      <td>1.367968</td>\n",
       "      <td>0.025781</td>\n",
       "      <td>1.048080</td>\n",
       "      <td>-0.009517</td>\n",
       "      <td>-0.278106</td>\n",
       "      <td>0.041235</td>\n",
       "      <td>-1.040712</td>\n",
       "      <td>0.234824</td>\n",
       "      <td>-0.452742</td>\n",
       "      <td>0.863569</td>\n",
       "      <td>1</td>\n",
       "    </tr>\n",
       "    <tr>\n",
       "      <th>1</th>\n",
       "      <td>3.564049</td>\n",
       "      <td>-1.018554</td>\n",
       "      <td>3.595808</td>\n",
       "      <td>6.387023</td>\n",
       "      <td>0.800924</td>\n",
       "      <td>-0.103095</td>\n",
       "      <td>0.063304</td>\n",
       "      <td>0.324074</td>\n",
       "      <td>0.804665</td>\n",
       "      <td>-0.465628</td>\n",
       "      <td>-0.723255</td>\n",
       "      <td>-0.825966</td>\n",
       "      <td>-0.686207</td>\n",
       "      <td>0.529644</td>\n",
       "      <td>0.253687</td>\n",
       "      <td>1</td>\n",
       "    </tr>\n",
       "    <tr>\n",
       "      <th>2</th>\n",
       "      <td>-2.146034</td>\n",
       "      <td>0.564004</td>\n",
       "      <td>-1.498970</td>\n",
       "      <td>0.041820</td>\n",
       "      <td>0.294629</td>\n",
       "      <td>-1.557127</td>\n",
       "      <td>-1.284772</td>\n",
       "      <td>-0.957012</td>\n",
       "      <td>-0.404103</td>\n",
       "      <td>-0.216746</td>\n",
       "      <td>0.045486</td>\n",
       "      <td>1.632545</td>\n",
       "      <td>0.606865</td>\n",
       "      <td>0.332033</td>\n",
       "      <td>-0.014521</td>\n",
       "      <td>1</td>\n",
       "    </tr>\n",
       "    <tr>\n",
       "      <th>3</th>\n",
       "      <td>1.836940</td>\n",
       "      <td>0.222763</td>\n",
       "      <td>3.679389</td>\n",
       "      <td>2.710808</td>\n",
       "      <td>0.582188</td>\n",
       "      <td>0.873894</td>\n",
       "      <td>-0.031269</td>\n",
       "      <td>1.202462</td>\n",
       "      <td>-0.457884</td>\n",
       "      <td>-0.082970</td>\n",
       "      <td>-0.324209</td>\n",
       "      <td>-0.288982</td>\n",
       "      <td>-0.600425</td>\n",
       "      <td>0.486365</td>\n",
       "      <td>0.019573</td>\n",
       "      <td>1</td>\n",
       "    </tr>\n",
       "    <tr>\n",
       "      <th>4</th>\n",
       "      <td>3.737444</td>\n",
       "      <td>-0.361824</td>\n",
       "      <td>0.543317</td>\n",
       "      <td>-0.121210</td>\n",
       "      <td>-1.302755</td>\n",
       "      <td>2.841647</td>\n",
       "      <td>1.233014</td>\n",
       "      <td>0.055270</td>\n",
       "      <td>0.362156</td>\n",
       "      <td>-0.602189</td>\n",
       "      <td>2.093677</td>\n",
       "      <td>-1.106630</td>\n",
       "      <td>0.711580</td>\n",
       "      <td>-0.363570</td>\n",
       "      <td>1.553116</td>\n",
       "      <td>1</td>\n",
       "    </tr>\n",
       "  </tbody>\n",
       "</table>\n",
       "</div>"
      ],
      "text/plain": [
       "          0         1         2         3         4         5         6  \\\n",
       "0  3.040505  1.521939 -0.847817  1.055572 -1.106023  1.367968  0.025781   \n",
       "1  3.564049 -1.018554  3.595808  6.387023  0.800924 -0.103095  0.063304   \n",
       "2 -2.146034  0.564004 -1.498970  0.041820  0.294629 -1.557127 -1.284772   \n",
       "3  1.836940  0.222763  3.679389  2.710808  0.582188  0.873894 -0.031269   \n",
       "4  3.737444 -0.361824  0.543317 -0.121210 -1.302755  2.841647  1.233014   \n",
       "\n",
       "          7         8         9        10        11        12        13  \\\n",
       "0  1.048080 -0.009517 -0.278106  0.041235 -1.040712  0.234824 -0.452742   \n",
       "1  0.324074  0.804665 -0.465628 -0.723255 -0.825966 -0.686207  0.529644   \n",
       "2 -0.957012 -0.404103 -0.216746  0.045486  1.632545  0.606865  0.332033   \n",
       "3  1.202462 -0.457884 -0.082970 -0.324209 -0.288982 -0.600425  0.486365   \n",
       "4  0.055270  0.362156 -0.602189  2.093677 -1.106630  0.711580 -0.363570   \n",
       "\n",
       "         14  Target  \n",
       "0  0.863569       1  \n",
       "1  0.253687       1  \n",
       "2 -0.014521       1  \n",
       "3  0.019573       1  \n",
       "4  1.553116       1  "
      ]
     },
     "execution_count": 77,
     "metadata": {},
     "output_type": "execute_result"
    }
   ],
   "source": [
    "#Map target variable to principal components\n",
    "pca_credit_data['Target'] = y\n",
    "\n",
    "pca_credit_data.head()"
   ]
  },
  {
   "cell_type": "markdown",
   "metadata": {},
   "source": [
    "#### Now let's teach our model how this data was generated\n",
    "\n",
    "We'll be using Logistic Regression, a regression model whose output can also be used as a threshold to classify binary outcomes like we are doing now."
   ]
  },
  {
   "cell_type": "code",
   "execution_count": 78,
   "metadata": {},
   "outputs": [],
   "source": [
    "#Split principal components into training and test data\n",
    "y = pca_credit_data['Target']\n",
    "X = pca_credit_data.drop(['Target'], axis=1)\n",
    "\n",
    "X_train, X_test, y_train, y_test = train_test_split(X, y, test_size=0.2, random_state=0)"
   ]
  },
  {
   "cell_type": "code",
   "execution_count": 79,
   "metadata": {},
   "outputs": [
    {
     "data": {
      "text/plain": [
       "(2400, 15)"
      ]
     },
     "execution_count": 79,
     "metadata": {},
     "output_type": "execute_result"
    }
   ],
   "source": [
    "X_train.shape"
   ]
  },
  {
   "cell_type": "code",
   "execution_count": 82,
   "metadata": {},
   "outputs": [
    {
     "data": {
      "text/plain": [
       "(3000,)"
      ]
     },
     "execution_count": 82,
     "metadata": {},
     "output_type": "execute_result"
    }
   ],
   "source": [
    "y.shape"
   ]
  },
  {
   "cell_type": "code",
   "execution_count": 83,
   "metadata": {},
   "outputs": [],
   "source": [
    "#initialize our Risk Model\n",
    "classifier = LogisticRegression()\n",
    "classifier.fit(X_train, y_train)\n",
    "y_pred = classifier.predict(X_test)"
   ]
  },
  {
   "cell_type": "markdown",
   "metadata": {},
   "source": [
    "Check our Risk Model performance"
   ]
  },
  {
   "cell_type": "code",
   "execution_count": 84,
   "metadata": {},
   "outputs": [
    {
     "name": "stdout",
     "output_type": "stream",
     "text": [
      "[[484  14]\n",
      " [ 89  13]]\n"
     ]
    }
   ],
   "source": [
    "print(confusion_matrix(y_test, y_pred))"
   ]
  },
  {
   "cell_type": "code",
   "execution_count": 85,
   "metadata": {},
   "outputs": [
    {
     "name": "stdout",
     "output_type": "stream",
     "text": [
      "0.8283333333333334\n"
     ]
    }
   ],
   "source": [
    "print(accuracy_score(y_test, y_pred))"
   ]
  },
  {
   "cell_type": "code",
   "execution_count": 86,
   "metadata": {},
   "outputs": [
    {
     "data": {
      "text/plain": [
       "array([[0.04199189, 0.95800811],\n",
       "       [0.91619513, 0.08380487],\n",
       "       [0.8167344 , 0.1832656 ],\n",
       "       ...,\n",
       "       [0.96589682, 0.03410318],\n",
       "       [0.36519825, 0.63480175],\n",
       "       [0.90802476, 0.09197524]])"
      ]
     },
     "execution_count": 86,
     "metadata": {},
     "output_type": "execute_result"
    }
   ],
   "source": [
    "#Use our Risk Model to predict outcomes for our test data\n",
    "predictions = classifier.predict_proba(X_test)\n",
    "predictions"
   ]
  },
  {
   "cell_type": "markdown",
   "metadata": {},
   "source": [
    "We can see an `82.5%` accuracy from our model. This is a fair outcome but we always want our model to be better, especially in situations where the margin for prediction error is very low. You neither want to grant a bad loan nor reject a good loan application.\n",
    "\n",
    "Let's try splitting our data with `Cross Validation` as a first step to model improvement."
   ]
  },
  {
   "cell_type": "code",
   "execution_count": 109,
   "metadata": {},
   "outputs": [
    {
     "name": "stdout",
     "output_type": "stream",
     "text": [
      "Accuracy: 0.84\n"
     ]
    }
   ],
   "source": [
    "from numpy import std, mean\n",
    "from sklearn.model_selection import KFold, cross_val_score, LeaveOneOut\n",
    "\n",
    "cv = KFold(n_splits=10, random_state=0, shuffle=True)\n",
    "classifier2 = LogisticRegression()\n",
    "# evaluate model\n",
    "scores = cross_val_score(classifier2, X, y, scoring='accuracy', cv=cv, n_jobs=-1)\n",
    "# report performance\n",
    "print(f'Accuracy: {round(mean(scores),2)}')"
   ]
  },
  {
   "cell_type": "markdown",
   "metadata": {},
   "source": [
    "A bit of improvement in our model accuracy."
   ]
  },
  {
   "cell_type": "code",
   "execution_count": 110,
   "metadata": {},
   "outputs": [
    {
     "data": {
      "text/plain": [
       "array([[0.04199189, 0.95800811],\n",
       "       [0.91619513, 0.08380487],\n",
       "       [0.8167344 , 0.1832656 ],\n",
       "       ...,\n",
       "       [0.96589682, 0.03410318],\n",
       "       [0.36519825, 0.63480175],\n",
       "       [0.90802476, 0.09197524]])"
      ]
     },
     "execution_count": 110,
     "metadata": {},
     "output_type": "execute_result"
    }
   ],
   "source": [
    "\n",
    "classifier2.fit(X_train, y_train)\n",
    "y_pred_2 = classifier.predict(X_test)\n",
    "predictions_2 = classifier2.predict_proba(X_test)\n",
    "predictions_2"
   ]
  },
  {
   "cell_type": "code",
   "execution_count": 111,
   "metadata": {},
   "outputs": [
    {
     "name": "stdout",
     "output_type": "stream",
     "text": [
      "[[484  14]\n",
      " [ 89  13]]\n"
     ]
    }
   ],
   "source": [
    "print(confusion_matrix(y_test, y_pred_2))"
   ]
  },
  {
   "cell_type": "code",
   "execution_count": null,
   "metadata": {},
   "outputs": [],
   "source": []
  },
  {
   "cell_type": "code",
   "execution_count": null,
   "metadata": {},
   "outputs": [],
   "source": []
  },
  {
   "cell_type": "code",
   "execution_count": null,
   "metadata": {},
   "outputs": [],
   "source": []
  },
  {
   "cell_type": "markdown",
   "metadata": {},
   "source": [
    "### Data Cleaning"
   ]
  },
  {
   "cell_type": "code",
   "execution_count": null,
   "metadata": {},
   "outputs": [],
   "source": []
  }
 ],
 "metadata": {
  "kernelspec": {
   "display_name": "base",
   "language": "python",
   "name": "python3"
  },
  "language_info": {
   "codemirror_mode": {
    "name": "ipython",
    "version": 3
   },
   "file_extension": ".py",
   "mimetype": "text/x-python",
   "name": "python",
   "nbconvert_exporter": "python",
   "pygments_lexer": "ipython3",
   "version": "3.11.5"
  },
  "orig_nbformat": 4
 },
 "nbformat": 4,
 "nbformat_minor": 2
}
